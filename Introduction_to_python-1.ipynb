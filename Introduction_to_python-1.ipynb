{
 "cells": [
  {
   "cell_type": "markdown",
   "id": "e5ffc884",
   "metadata": {},
   "source": [
    "# programing "
   ]
  },
  {
   "cell_type": "code",
   "execution_count": 1,
   "id": "9a3bde3a",
   "metadata": {},
   "outputs": [],
   "source": [
    "# machine (0 and 1) <---  Translator(compiler /interpreter)  <------ Code (programming language)"
   ]
  },
  {
   "cell_type": "markdown",
   "id": "927d9cdd",
   "metadata": {},
   "source": [
    "# What is python?"
   ]
  },
  {
   "cell_type": "code",
   "execution_count": 2,
   "id": "c7261160",
   "metadata": {},
   "outputs": [],
   "source": [
    "# 1. python is simple and easy\n",
    "# 2. free and open source\n",
    "# 3. high level language\n",
    "# 4. developed by \"Guido van Rossum\"\n",
    "# 5. portable"
   ]
  },
  {
   "cell_type": "markdown",
   "id": "80b7a40c",
   "metadata": {},
   "source": [
    "# Our First program"
   ]
  },
  {
   "cell_type": "code",
   "execution_count": 3,
   "id": "e463178a",
   "metadata": {},
   "outputs": [
    {
     "name": "stdout",
     "output_type": "stream",
     "text": [
      "Hello World\n"
     ]
    }
   ],
   "source": [
    "print(\"Hello World\")"
   ]
  },
  {
   "cell_type": "code",
   "execution_count": 5,
   "id": "51d36732",
   "metadata": {},
   "outputs": [
    {
     "name": "stdout",
     "output_type": "stream",
     "text": [
      "23\n"
     ]
    }
   ],
   "source": [
    "print(\"23\")"
   ]
  },
  {
   "cell_type": "code",
   "execution_count": 6,
   "id": "242aa511",
   "metadata": {},
   "outputs": [
    {
     "name": "stdout",
     "output_type": "stream",
     "text": [
      "my name is nandu\n"
     ]
    }
   ],
   "source": [
    "print(\"my name is\",\"nandu\")"
   ]
  },
  {
   "cell_type": "markdown",
   "id": "f4f19c45",
   "metadata": {},
   "source": [
    "# Add "
   ]
  },
  {
   "cell_type": "code",
   "execution_count": 7,
   "id": "548b6f16",
   "metadata": {},
   "outputs": [
    {
     "name": "stdout",
     "output_type": "stream",
     "text": [
      "35\n"
     ]
    }
   ],
   "source": [
    "print(12+23)"
   ]
  },
  {
   "cell_type": "markdown",
   "id": "23fa35ec",
   "metadata": {},
   "source": [
    "# sub"
   ]
  },
  {
   "cell_type": "code",
   "execution_count": 8,
   "id": "9a120a09",
   "metadata": {},
   "outputs": [
    {
     "name": "stdout",
     "output_type": "stream",
     "text": [
      "6\n"
     ]
    }
   ],
   "source": [
    "print(9-3) "
   ]
  },
  {
   "cell_type": "markdown",
   "id": "8c08cbc6",
   "metadata": {},
   "source": [
    "# Character set"
   ]
  },
  {
   "cell_type": "code",
   "execution_count": 4,
   "id": "1e20f72a",
   "metadata": {},
   "outputs": [],
   "source": [
    "# Letter-A to Z, a to z.\n",
    "# Digits - 0 to 9\n",
    "# special Symbols -+-*/etc\n",
    "# Whitespaces-Blank Space,tab,carriage return,newline ,formfeed\n",
    "# other character - python can process all ASCII and Unicode char as part of data or literal\n"
   ]
  },
  {
   "cell_type": "markdown",
   "id": "947ee70d",
   "metadata": {},
   "source": [
    "# variable"
   ]
  },
  {
   "cell_type": "code",
   "execution_count": 9,
   "id": "fba96b63",
   "metadata": {},
   "outputs": [],
   "source": [
    "# A variable is a name given to a memory location in a program..\n",
    "# for example :-\n",
    "# name(variable) = \"nandu\"(value)\n",
    "# age(variable)=23(value)\n",
    "# price(variable)=25.99(value)\n"
   ]
  },
  {
   "cell_type": "markdown",
   "id": "71eb59b8",
   "metadata": {},
   "source": [
    "# variable related program"
   ]
  },
  {
   "cell_type": "code",
   "execution_count": 12,
   "id": "36b496a9",
   "metadata": {},
   "outputs": [
    {
     "name": "stdout",
     "output_type": "stream",
     "text": [
      "nandu\n",
      "23\n",
      "23.99\n",
      "my name is : nandu\n",
      "my age is : 23\n"
     ]
    }
   ],
   "source": [
    "name=\"nandu\"\n",
    "age =23 # = is known as assignment operator\n",
    "price=23.99\n",
    "print(name)\n",
    "print(age)\n",
    "print(price)\n",
    "print(\"my name is :\",name)\n",
    "print(\"my age is :\",age)\n"
   ]
  },
  {
   "cell_type": "code",
   "execution_count": 13,
   "id": "e6c6242d",
   "metadata": {},
   "outputs": [
    {
     "name": "stdout",
     "output_type": "stream",
     "text": [
      "23\n"
     ]
    }
   ],
   "source": [
    "# age value assignemnt in age2 variable like this\n",
    "age2=age\n",
    "print(age2)"
   ]
  },
  {
   "cell_type": "markdown",
   "id": "147f6c86",
   "metadata": {},
   "source": [
    "# Rules for identifier"
   ]
  },
  {
   "cell_type": "code",
   "execution_count": 14,
   "id": "cfb6f31c",
   "metadata": {},
   "outputs": [],
   "source": [
    "# identifiers can be combination of uppercase and lowercase letter ,digits or an underscore(_). so my variable,variable_1 all are valid python identifier.\n",
    "# identifier can be any length.\n",
    "# it can't start with digit.\n"
   ]
  },
  {
   "cell_type": "markdown",
   "id": "c4f15423",
   "metadata": {},
   "source": [
    "# type of variable program"
   ]
  },
  {
   "cell_type": "code",
   "execution_count": 17,
   "id": "ddb87bf0",
   "metadata": {},
   "outputs": [
    {
     "name": "stdout",
     "output_type": "stream",
     "text": [
      "<class 'str'>\n",
      "<class 'int'>\n"
     ]
    }
   ],
   "source": [
    "name=\"aayu\"\n",
    "age=22\n",
    "print(type(name))\n",
    "print(type(age))"
   ]
  },
  {
   "cell_type": "markdown",
   "id": "bba27cc5",
   "metadata": {},
   "source": [
    "# data types"
   ]
  },
  {
   "cell_type": "code",
   "execution_count": 18,
   "id": "8769d940",
   "metadata": {},
   "outputs": [],
   "source": [
    "# 1. Integers = +ve,-ve,0\n",
    "# 2. String = senstence ,'hello' '',\" \",\"' '\"\n",
    "# 3. Float = decimal value \n",
    "# 4. Boolean = True and False\n",
    "# 5. None = not store value"
   ]
  },
  {
   "cell_type": "markdown",
   "id": "c203cc51",
   "metadata": {},
   "source": [
    "# for example of string"
   ]
  },
  {
   "cell_type": "code",
   "execution_count": 21,
   "id": "4d758e2f",
   "metadata": {},
   "outputs": [
    {
     "name": "stdout",
     "output_type": "stream",
     "text": [
      "jnab\n",
      "jnab\n",
      "jnab\n"
     ]
    }
   ],
   "source": [
    "name1='jnab'\n",
    "name2 = \"jnab\"\n",
    "name3='''jnab'''\n",
    "print(name1)\n",
    "print(name2)\n",
    "print(name3)"
   ]
  },
  {
   "cell_type": "markdown",
   "id": "9f6e6282",
   "metadata": {},
   "source": [
    "# type of float and none also boolean"
   ]
  },
  {
   "cell_type": "code",
   "execution_count": 22,
   "id": "ad7b38c0",
   "metadata": {},
   "outputs": [
    {
     "name": "stdout",
     "output_type": "stream",
     "text": [
      "<class 'float'>\n",
      "<class 'bool'>\n",
      "<class 'NoneType'>\n"
     ]
    }
   ],
   "source": [
    "prince = 23.5\n",
    "old = False\n",
    "a= None\n",
    "print(type(price))\n",
    "print(type(old))\n",
    "print(type(a))"
   ]
  },
  {
   "cell_type": "markdown",
   "id": "1386131a",
   "metadata": {},
   "source": [
    "# keyWords "
   ]
  },
  {
   "cell_type": "code",
   "execution_count": 23,
   "id": "4378f7c4",
   "metadata": {},
   "outputs": [],
   "source": [
    "# are reserved words in python\n",
    "\n",
    "# False      await      else       import     pass\n",
    "# None       break      except     in         raise\n",
    "# True       class      finally    is         return\n",
    "# and        continue   for        lambda     try\n",
    "# as         def        from       nonlocal   while\n",
    "# assert     del        global     not        with\n",
    "# async      elif       if         or         yield\n"
   ]
  },
  {
   "cell_type": "code",
   "execution_count": 24,
   "id": "65ed41e4",
   "metadata": {},
   "outputs": [],
   "source": [
    "# python is a case sensitive"
   ]
  },
  {
   "cell_type": "markdown",
   "id": "bdec4a28",
   "metadata": {},
   "source": [
    "# sum of two number"
   ]
  },
  {
   "cell_type": "code",
   "execution_count": 26,
   "id": "61e30b6d",
   "metadata": {},
   "outputs": [
    {
     "name": "stdout",
     "output_type": "stream",
     "text": [
      "-13\n"
     ]
    }
   ],
   "source": [
    "a=17\n",
    "b=30\n",
    "# c = a+b\n",
    "c=a-b\n",
    "print(c)"
   ]
  },
  {
   "cell_type": "markdown",
   "id": "f024a3d4",
   "metadata": {},
   "source": [
    "# python comment "
   ]
  },
  {
   "cell_type": "code",
   "execution_count": 28,
   "id": "3ab21090",
   "metadata": {},
   "outputs": [],
   "source": [
    "# single line comment \"#\"\n",
    "# multiline comment \"\"\" like this \"\"\"\n",
    "\n",
    "# for example :-singl line\n",
    "# \"\"\"hello \"\"\" mulitline "
   ]
  },
  {
   "cell_type": "code",
   "execution_count": null,
   "id": "b64b931f",
   "metadata": {},
   "outputs": [],
   "source": []
  }
 ],
 "metadata": {
  "kernelspec": {
   "display_name": "Python 3 (ipykernel)",
   "language": "python",
   "name": "python3"
  },
  "language_info": {
   "codemirror_mode": {
    "name": "ipython",
    "version": 3
   },
   "file_extension": ".py",
   "mimetype": "text/x-python",
   "name": "python",
   "nbconvert_exporter": "python",
   "pygments_lexer": "ipython3",
   "version": "3.11.5"
  }
 },
 "nbformat": 4,
 "nbformat_minor": 5
}
